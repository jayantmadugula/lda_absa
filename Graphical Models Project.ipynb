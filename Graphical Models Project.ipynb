{
 "cells": [
  {
   "cell_type": "code",
   "execution_count": 1,
   "metadata": {},
   "outputs": [],
   "source": [
    "import numpy as np\n",
    "import pandas as pd"
   ]
  },
  {
   "cell_type": "code",
   "execution_count": 2,
   "metadata": {},
   "outputs": [],
   "source": [
    "from absa_code import preprocessing_pipelines"
   ]
  },
  {
   "cell_type": "code",
   "execution_count": 3,
   "metadata": {},
   "outputs": [],
   "source": [
    "from absa_code.models.lda import LDA\n",
    "from absa_code.models.llda import LLDA\n",
    "# from absa_code.models.mylda import MLDA\n",
    "from absa_code.models.mlda import MLDA"
   ]
  },
  {
   "cell_type": "code",
   "execution_count": 4,
   "metadata": {},
   "outputs": [
    {
     "data": {
      "text/html": [
       "<div>\n",
       "<style scoped>\n",
       "    .dataframe tbody tr th:only-of-type {\n",
       "        vertical-align: middle;\n",
       "    }\n",
       "\n",
       "    .dataframe tbody tr th {\n",
       "        vertical-align: top;\n",
       "    }\n",
       "\n",
       "    .dataframe thead th {\n",
       "        text-align: right;\n",
       "    }\n",
       "</style>\n",
       "<table border=\"1\" class=\"dataframe\">\n",
       "  <thead>\n",
       "    <tr style=\"text-align: right;\">\n",
       "      <th></th>\n",
       "      <th>review</th>\n",
       "      <th>opinion_data</th>\n",
       "    </tr>\n",
       "  </thead>\n",
       "  <tbody>\n",
       "    <tr>\n",
       "      <th>0</th>\n",
       "      <td>Judging from previous posts this used to be a ...</td>\n",
       "      <td>category  from  polarity target  ...</td>\n",
       "    </tr>\n",
       "    <tr>\n",
       "      <th>1</th>\n",
       "      <td>We, there were four of us, arrived at noon - t...</td>\n",
       "      <td>category  from  polarity target  to\n",
       "...</td>\n",
       "    </tr>\n",
       "    <tr>\n",
       "      <th>2</th>\n",
       "      <td>They never brought us complimentary noodles, i...</td>\n",
       "      <td>category  from  polarity target  to\n",
       "...</td>\n",
       "    </tr>\n",
       "    <tr>\n",
       "      <th>3</th>\n",
       "      <td>The food was lousy - too sweet or too salty an...</td>\n",
       "      <td>category  from  polarity    targe...</td>\n",
       "    </tr>\n",
       "    <tr>\n",
       "      <th>4</th>\n",
       "      <td>After all that, they complained to me about th...</td>\n",
       "      <td>category  from  polarity target  to\n",
       "...</td>\n",
       "    </tr>\n",
       "    <tr>\n",
       "      <th>5</th>\n",
       "      <td>Avoid this place!</td>\n",
       "      <td>category  from  polarity target  ...</td>\n",
       "    </tr>\n",
       "    <tr>\n",
       "      <th>6</th>\n",
       "      <td>I have eaten at Saul, many times, the food is ...</td>\n",
       "      <td>category  from  polarity target  to\n",
       "0  ...</td>\n",
       "    </tr>\n",
       "    <tr>\n",
       "      <th>7</th>\n",
       "      <td>Saul is the best restaurant on Smith Street an...</td>\n",
       "      <td>category  from  polarity target  ...</td>\n",
       "    </tr>\n",
       "    <tr>\n",
       "      <th>8</th>\n",
       "      <td>The duck confit is always amazing and the foie...</td>\n",
       "      <td>category  from  polarity               ...</td>\n",
       "    </tr>\n",
       "    <tr>\n",
       "      <th>9</th>\n",
       "      <td>The wine list is interesting and has many good...</td>\n",
       "      <td>category  from  polarity     ta...</td>\n",
       "    </tr>\n",
       "  </tbody>\n",
       "</table>\n",
       "</div>"
      ],
      "text/plain": [
       "                                              review  \\\n",
       "0  Judging from previous posts this used to be a ...   \n",
       "1  We, there were four of us, arrived at noon - t...   \n",
       "2  They never brought us complimentary noodles, i...   \n",
       "3  The food was lousy - too sweet or too salty an...   \n",
       "4  After all that, they complained to me about th...   \n",
       "5                                  Avoid this place!   \n",
       "6  I have eaten at Saul, many times, the food is ...   \n",
       "7  Saul is the best restaurant on Smith Street an...   \n",
       "8  The duck confit is always amazing and the foie...   \n",
       "9  The wine list is interesting and has many good...   \n",
       "\n",
       "                                        opinion_data  \n",
       "0               category  from  polarity target  ...  \n",
       "1            category  from  polarity target  to\n",
       "...  \n",
       "2            category  from  polarity target  to\n",
       "...  \n",
       "3               category  from  polarity    targe...  \n",
       "4            category  from  polarity target  to\n",
       "...  \n",
       "5               category  from  polarity target  ...  \n",
       "6         category  from  polarity target  to\n",
       "0  ...  \n",
       "7               category  from  polarity target  ...  \n",
       "8         category  from  polarity               ...  \n",
       "9                 category  from  polarity     ta...  "
      ]
     },
     "execution_count": 4,
     "metadata": {},
     "output_type": "execute_result"
    }
   ],
   "source": [
    "review_data, label_matrix = preprocessing_pipelines.lda_text_pipeline()\n",
    "review_data.head(10)"
   ]
  },
  {
   "cell_type": "code",
   "execution_count": 5,
   "metadata": {},
   "outputs": [
    {
     "data": {
      "text/plain": [
       "array([[0, 0, 0, ..., 0, 0, 0]])"
      ]
     },
     "execution_count": 5,
     "metadata": {},
     "output_type": "execute_result"
    }
   ],
   "source": [
    "from sklearn.feature_extraction.text import CountVectorizer\n",
    "\n",
    "# cv = CountVectorizer(stop_words='english')\n",
    "cv = CountVectorizer(min_df=0)\n",
    "X = cv.fit_transform(review_data['review'])\n",
    "X[0].toarray()"
   ]
  },
  {
   "cell_type": "code",
   "execution_count": 6,
   "metadata": {},
   "outputs": [],
   "source": [
    "vocab = pd.Series(cv.get_feature_names())"
   ]
  },
  {
   "cell_type": "code",
   "execution_count": 7,
   "metadata": {
    "scrolled": true
   },
   "outputs": [
    {
     "data": {
      "text/plain": [
       "3038"
      ]
     },
     "execution_count": 7,
     "metadata": {},
     "output_type": "execute_result"
    }
   ],
   "source": [
    "vocab_size = X.shape[1]\n",
    "vocab_size"
   ]
  },
  {
   "cell_type": "code",
   "execution_count": 8,
   "metadata": {},
   "outputs": [],
   "source": [
    "unique_categories = set()\n",
    "for i, doc in review_data.iterrows():\n",
    "    category = doc['opinion_data']['category'][0]\n",
    "    unique_categories.add(category)"
   ]
  },
  {
   "cell_type": "code",
   "execution_count": 9,
   "metadata": {},
   "outputs": [
    {
     "data": {
      "text/plain": [
       "array(['AMBIENCE#GENERAL', 'FOOD#PRICES', 'DRINKS#STYLE_OPTIONS',\n",
       "       'RESTAURANT#PRICES', 'RESTAURANT#MISCELLANEOUS', 'DRINKS#QUALITY',\n",
       "       'SERVICE#GENERAL', 'DRINKS#PRICES', 'FOOD#QUALITY',\n",
       "       'LOCATION#GENERAL', 'FOOD#STYLE_OPTIONS', 'RESTAURANT#GENERAL'],\n",
       "      dtype='<U24')"
      ]
     },
     "execution_count": 9,
     "metadata": {},
     "output_type": "execute_result"
    }
   ],
   "source": [
    "categories_arr = np.array(list(unique_categories))\n",
    "categories_arr"
   ]
  },
  {
   "cell_type": "markdown",
   "metadata": {},
   "source": [
    "#### Calculate cluster (\"label\") matrix"
   ]
  },
  {
   "cell_type": "code",
   "execution_count": 10,
   "metadata": {
    "scrolled": true
   },
   "outputs": [
    {
     "data": {
      "text/plain": [
       "array([[11]])"
      ]
     },
     "execution_count": 10,
     "metadata": {},
     "output_type": "execute_result"
    }
   ],
   "source": [
    "np.argwhere(categories_arr == 'RESTAURANT#GENERAL')"
   ]
  },
  {
   "cell_type": "code",
   "execution_count": 11,
   "metadata": {},
   "outputs": [],
   "source": [
    "label_matrix = np.zeros(shape=(review_data.shape[0], 12))\n",
    "for i, doc in review_data.iterrows():\n",
    "    targets = doc['opinion_data']\n",
    "    for j, target in targets.iterrows():\n",
    "        k = np.argwhere(categories_arr == target['category'])\n",
    "        label_matrix[i][k] = 1"
   ]
  },
  {
   "cell_type": "markdown",
   "metadata": {},
   "source": [
    "#### Calculate word-topic counts in data"
   ]
  },
  {
   "cell_type": "code",
   "execution_count": 12,
   "metadata": {},
   "outputs": [
    {
     "data": {
      "text/plain": [
       "True"
      ]
     },
     "execution_count": 12,
     "metadata": {},
     "output_type": "execute_result"
    }
   ],
   "source": [
    "vocab_set = set(cv.get_feature_names())\n",
    "'waitress' in vocab_set"
   ]
  },
  {
   "cell_type": "code",
   "execution_count": 13,
   "metadata": {},
   "outputs": [],
   "source": [
    "word_k_matrix = np.zeros(shape=(X.shape[1], 12))\n",
    "for j, doc in review_data.iterrows():\n",
    "    targets = doc['opinion_data']\n",
    "    for i, target in targets.iterrows():\n",
    "        k = np.argwhere(categories_arr == target['category'])\n",
    "        word = target['target']\n",
    "        word = word.lower()\n",
    "        word = word.split(' ')\n",
    "        for w in word:\n",
    "            if w in vocab_set:\n",
    "                j = vocab[vocab == w].index[0]\n",
    "                word_k_matrix[j,k] += 1"
   ]
  },
  {
   "cell_type": "code",
   "execution_count": 14,
   "metadata": {},
   "outputs": [
    {
     "data": {
      "text/plain": [
       "array([[0.        , 0.        , 0.        , ..., 0.        , 0.        ,\n",
       "        0.        ],\n",
       "       [0.        , 0.        , 0.        , ..., 0.        , 0.        ,\n",
       "        0.        ],\n",
       "       [0.        , 0.        , 0.        , ..., 0.        , 0.        ,\n",
       "        0.        ],\n",
       "       ...,\n",
       "       [0.00037722, 0.        , 0.        , ..., 0.        , 0.        ,\n",
       "        0.00037722],\n",
       "       [0.        , 0.        , 0.        , ..., 0.        , 0.        ,\n",
       "        0.        ],\n",
       "       [0.        , 0.        , 0.        , ..., 0.        , 0.        ,\n",
       "        0.00037722]])"
      ]
     },
     "execution_count": 14,
     "metadata": {},
     "output_type": "execute_result"
    }
   ],
   "source": [
    "word_k_matrix / np.sum(word_k_matrix)"
   ]
  },
  {
   "cell_type": "code",
   "execution_count": 15,
   "metadata": {},
   "outputs": [
    {
     "data": {
      "text/plain": [
       "array([0., 0., 0., 0., 0., 0., 0., 0., 1., 0., 1., 0.])"
      ]
     },
     "execution_count": 15,
     "metadata": {},
     "output_type": "execute_result"
    }
   ],
   "source": [
    "label_matrix[3]"
   ]
  },
  {
   "cell_type": "code",
   "execution_count": 16,
   "metadata": {},
   "outputs": [
    {
     "data": {
      "text/plain": [
       "8"
      ]
     },
     "execution_count": 16,
     "metadata": {},
     "output_type": "execute_result"
    }
   ],
   "source": [
    "np.random.choice(np.argwhere(label_matrix[3] == 1).reshape(-1,))"
   ]
  },
  {
   "cell_type": "markdown",
   "metadata": {},
   "source": [
    "# MLDA"
   ]
  },
  {
   "cell_type": "code",
   "execution_count": 17,
   "metadata": {},
   "outputs": [],
   "source": [
    "binary_word_k_matrix = word_k_matrix[:]\n",
    "binary_word_k_matrix[binary_word_k_matrix == 0] += 0.001"
   ]
  },
  {
   "cell_type": "code",
   "execution_count": 172,
   "metadata": {},
   "outputs": [],
   "source": [
    "llda = MLDA(0.005, 0.08, 12)"
   ]
  },
  {
   "cell_type": "code",
   "execution_count": 173,
   "metadata": {
    "scrolled": true
   },
   "outputs": [
    {
     "data": {
      "text/plain": [
       "252"
      ]
     },
     "execution_count": 173,
     "metadata": {},
     "output_type": "execute_result"
    }
   ],
   "source": [
    "llda.random_initialization(review_data['review'][:50], word_k_matrix)\n",
    "llda.vocab_size"
   ]
  },
  {
   "cell_type": "code",
   "execution_count": 174,
   "metadata": {
    "scrolled": true
   },
   "outputs": [
    {
     "name": "stdout",
     "output_type": "stream",
     "text": [
      "n_dk: (50, 12)\n",
      "n_wk: (252, 12)\n"
     ]
    }
   ],
   "source": [
    "print('n_dk: {}'.format(llda.n_dk.shape))\n",
    "print('n_wk: {}'.format(llda.n_wk.shape))"
   ]
  },
  {
   "cell_type": "code",
   "execution_count": 175,
   "metadata": {},
   "outputs": [],
   "source": [
    "orig_z = llda.z"
   ]
  },
  {
   "cell_type": "code",
   "execution_count": 176,
   "metadata": {},
   "outputs": [
    {
     "data": {
      "text/plain": [
       "(1708, 12)"
      ]
     },
     "execution_count": 176,
     "metadata": {},
     "output_type": "execute_result"
    }
   ],
   "source": [
    "label_matrix.shape"
   ]
  },
  {
   "cell_type": "code",
   "execution_count": 177,
   "metadata": {
    "scrolled": true
   },
   "outputs": [
    {
     "name": "stdout",
     "output_type": "stream",
     "text": [
      "0\n",
      "100\n",
      "200\n",
      "300\n",
      "400\n",
      "500\n",
      "600\n",
      "700\n",
      "800\n",
      "900\n"
     ]
    }
   ],
   "source": [
    "log_likelihoods = llda.fit(max_iters=1000)"
   ]
  },
  {
   "cell_type": "code",
   "execution_count": 186,
   "metadata": {},
   "outputs": [
    {
     "data": {
      "text/plain": [
       "array([[1.        , 0.09713741],\n",
       "       [0.09713741, 1.        ]])"
      ]
     },
     "execution_count": 186,
     "metadata": {},
     "output_type": "execute_result"
    }
   ],
   "source": [
    "t = 900\n",
    "np.corrcoef(np.array([log_likelihoods[:-t], log_likelihoods[t:]]))"
   ]
  },
  {
   "cell_type": "code",
   "execution_count": 113,
   "metadata": {
    "scrolled": false
   },
   "outputs": [
    {
     "data": {
      "image/png": "[encoded data removed]",
      "text/plain": [
       "<Figure size 432x288 with 1 Axes>"
      ]
     },
     "metadata": {
      "needs_background": "light"
     },
     "output_type": "display_data"
    }
   ],
   "source": [
    "import matplotlib.pyplot as plt\n",
    "fig = plt.figure()\n",
    "plt.plot(log_likelihoods)\n",
    "plt.xlabel('Iterations')\n",
    "plt.ylabel('Log Likelihood')\n",
    "plt.title('Log Likelihood of MLDA with Binary Target Information')\n",
    "plt.savefig('mlda.png', dpi=200)"
   ]
  },
  {
   "cell_type": "code",
   "execution_count": 114,
   "metadata": {},
   "outputs": [],
   "source": [
    "beta = llda.calc_beta()\n",
    "theta = llda.calc_theta()"
   ]
  },
  {
   "cell_type": "code",
   "execution_count": 115,
   "metadata": {},
   "outputs": [
    {
     "data": {
      "text/plain": [
       "(252, 12)"
      ]
     },
     "execution_count": 115,
     "metadata": {},
     "output_type": "execute_result"
    }
   ],
   "source": [
    "beta.shape"
   ]
  },
  {
   "cell_type": "code",
   "execution_count": 116,
   "metadata": {},
   "outputs": [
    {
     "data": {
      "text/plain": [
       "(50, 12)"
      ]
     },
     "execution_count": 116,
     "metadata": {},
     "output_type": "execute_result"
    }
   ],
   "source": [
    "theta.shape"
   ]
  },
  {
   "cell_type": "code",
   "execution_count": 117,
   "metadata": {},
   "outputs": [
    {
     "data": {
      "text/plain": [
       "array([ 0,  1,  2,  3,  4,  5,  6,  7,  8,  9, 10, 11])"
      ]
     },
     "execution_count": 117,
     "metadata": {},
     "output_type": "execute_result"
    }
   ],
   "source": [
    "np.unique(llda.z)"
   ]
  },
  {
   "cell_type": "code",
   "execution_count": 118,
   "metadata": {},
   "outputs": [
    {
     "data": {
      "text/plain": [
       "array([0, 8])"
      ]
     },
     "execution_count": 118,
     "metadata": {},
     "output_type": "execute_result"
    }
   ],
   "source": [
    "np.unique(llda.z[3])"
   ]
  },
  {
   "cell_type": "code",
   "execution_count": 119,
   "metadata": {},
   "outputs": [
    {
     "data": {
      "text/plain": [
       "array([1.55250574e-05, 1.55250574e-05, 1.55250574e-05, 1.55250574e-05,\n",
       "       1.55250574e-05, 1.55250574e-05, 1.55250574e-05, 1.55250574e-05,\n",
       "       1.86455940e-02, 1.55250574e-05, 1.55250574e-05, 1.55250574e-05])"
      ]
     },
     "execution_count": 119,
     "metadata": {},
     "output_type": "execute_result"
    }
   ],
   "source": [
    "theta[3]"
   ]
  },
  {
   "cell_type": "markdown",
   "metadata": {},
   "source": [
    "### Get most common words"
   ]
  },
  {
   "cell_type": "markdown",
   "metadata": {},
   "source": [
    "For topic 6:"
   ]
  },
  {
   "cell_type": "code",
   "execution_count": 120,
   "metadata": {},
   "outputs": [],
   "source": [
    "import pandas as pd"
   ]
  },
  {
   "cell_type": "code",
   "execution_count": 121,
   "metadata": {},
   "outputs": [],
   "source": [
    "word_freq_inds = np.argsort(llda.n_wk[:, 3]) #least to most\n",
    "word_features = pd.Series(llda.corpus_model.get_feature_names())"
   ]
  },
  {
   "cell_type": "code",
   "execution_count": 122,
   "metadata": {},
   "outputs": [
    {
     "data": {
      "text/plain": [
       "array([  0, 150, 151, 152, 153, 154, 155, 156, 157, 158, 159, 160, 161,\n",
       "       162, 163, 164, 165, 166, 168, 169, 170, 171, 172, 176, 177, 178,\n",
       "       149, 148, 147, 146, 119, 120, 121, 122, 123, 124, 250, 126, 127,\n",
       "       128, 129, 130, 179, 131, 133, 134, 135, 136, 137, 138, 139, 140,\n",
       "       141, 143, 144, 145, 132, 118, 180, 183, 218, 219, 220, 221, 223,\n",
       "       224, 225, 226, 227, 228, 229, 231, 233, 234, 235, 237, 238, 239,\n",
       "       240, 241, 242, 244, 245, 246, 248, 217, 216, 215, 214, 184, 185,\n",
       "       186, 187, 188, 190, 191, 193, 194, 195, 196, 197, 182, 199, 201,\n",
       "       202, 203, 204, 205, 206, 207, 208, 209, 210, 212, 213, 200, 117,\n",
       "       251, 115,  36,  37,  38,  39,  40,  41,  42,  44,  45,  46,  47,\n",
       "        48,  49,  50,  51,  52,  53,  54,  56,  57,  58,  59,  61,  35,\n",
       "        34,  33,  32,   1,   2,   3,   4,   6,   7,   8,   9,  11,  13,\n",
       "        14,  62,  15,  19,  20,  21,  22,  23,  24,  25,  26,  27,  28,\n",
       "        29,  18,  63,  55,  82,  83,  84, 107,  86,  87,  88,  90,  91,\n",
       "        64, 106,  81,  92,  94,  95,  96,  97,  98,  99, 100, 101, 102,\n",
       "       104,  93, 108, 103,  80,  68,  69, 111,  70,  71,  72,  73,  67,\n",
       "        66,  74,  75, 114, 110,  77,  78,  79,  65, 113, 247, 232, 249,\n",
       "        12, 109, 236, 243,  10,   5, 230, 112, 173,  31, 125, 174, 175,\n",
       "       142,  30, 211,  89,  60,  43, 198,  16, 192, 189, 116, 181, 167,\n",
       "        17, 105, 222,  76,  85])"
      ]
     },
     "execution_count": 122,
     "metadata": {},
     "output_type": "execute_result"
    }
   ],
   "source": [
    "word_freq_inds"
   ]
  },
  {
   "cell_type": "code",
   "execution_count": 123,
   "metadata": {},
   "outputs": [
    {
     "data": {
      "text/plain": [
       "17     awesome\n",
       "105        ive\n",
       "222      times\n",
       "76        food\n",
       "85        good\n",
       "dtype: object"
      ]
     },
     "execution_count": 123,
     "metadata": {},
     "output_type": "execute_result"
    }
   ],
   "source": [
    "word_features[word_freq_inds[-5:]]"
   ]
  },
  {
   "cell_type": "markdown",
   "metadata": {},
   "source": [
    "### Get cluster assignments for documents"
   ]
  },
  {
   "cell_type": "markdown",
   "metadata": {},
   "source": [
    "For document 0:"
   ]
  },
  {
   "cell_type": "code",
   "execution_count": 124,
   "metadata": {},
   "outputs": [
    {
     "data": {
      "text/plain": [
       "array([ 5, 11])"
      ]
     },
     "execution_count": 124,
     "metadata": {},
     "output_type": "execute_result"
    }
   ],
   "source": [
    "i = 0\n",
    "\n",
    "word_inds = np.nonzero(llda.X[i])[1]\n",
    "np.unique(llda.z[i, word_inds])"
   ]
  },
  {
   "cell_type": "code",
   "execution_count": 125,
   "metadata": {},
   "outputs": [
    {
     "data": {
      "text/plain": [
       "(50, 252)"
      ]
     },
     "execution_count": 125,
     "metadata": {},
     "output_type": "execute_result"
    }
   ],
   "source": [
    "llda.z.shape"
   ]
  },
  {
   "cell_type": "code",
   "execution_count": 126,
   "metadata": {},
   "outputs": [],
   "source": [
    "num_docs = llda.z.shape[0]\n",
    "\n",
    "llda_doc_labels_pred = dict()\n",
    "doc_labels = dict()\n",
    "for i in range(0, num_docs):\n",
    "    word_inds = np.nonzero(llda.X[i])[1]\n",
    "    llda_doc_labels_pred[i] = np.unique(llda.z[i, word_inds])\n",
    "    doc_labels[i] = np.nonzero(label_matrix[i])[0]"
   ]
  },
  {
   "cell_type": "code",
   "execution_count": 127,
   "metadata": {},
   "outputs": [
    {
     "data": {
      "text/plain": [
       "array([11])"
      ]
     },
     "execution_count": 127,
     "metadata": {},
     "output_type": "execute_result"
    }
   ],
   "source": [
    "np.nonzero(label_matrix[0])[0]"
   ]
  },
  {
   "cell_type": "markdown",
   "metadata": {},
   "source": [
    "For each document, create a list of docs that are in the same cluster (labeled and inferred)\n",
    "\n",
    "Compute TP, FP, FN values, then calculate precision, recall, and f-score"
   ]
  },
  {
   "cell_type": "code",
   "execution_count": 128,
   "metadata": {},
   "outputs": [
    {
     "name": "stdout",
     "output_type": "stream",
     "text": [
      "0.7157221206581352 0.9125874125874126 0.8022540983606556\n"
     ]
    }
   ],
   "source": [
    "tp = 0\n",
    "fp = 0\n",
    "fn = 0\n",
    "total = 0\n",
    "\n",
    "for i in range(0, num_docs):\n",
    "    pred_i = set(llda_doc_labels_pred[i])\n",
    "    label_i = set(doc_labels[i])\n",
    "    for j in range(0, num_docs):\n",
    "        if i == j: continue\n",
    "        pred_j = set(llda_doc_labels_pred[j])\n",
    "        label_j = set(doc_labels[j])\n",
    "\n",
    "        # If labeled in same cluster\n",
    "        label_same_cluster = label_i.isdisjoint(label_j)\n",
    "        # If predicted in same cluster\n",
    "        pred_same_cluster = pred_i.isdisjoint(pred_j)\n",
    "\n",
    "        if label_same_cluster == True and pred_same_cluster == True:\n",
    "            tp += 1\n",
    "        elif label_same_cluster == False and pred_same_cluster == True:\n",
    "            fp += 1\n",
    "        elif label_same_cluster == True and pred_same_cluster == False:\n",
    "            fn += 1\n",
    "        total += 1\n",
    "\n",
    "precision = tp / (tp + fp)\n",
    "recall = tp / (tp + fn)\n",
    "fscore = (2 * precision * recall) / (precision + recall)\n",
    "\n",
    "print(precision, recall, fscore)"
   ]
  },
  {
   "cell_type": "code",
   "execution_count": 130,
   "metadata": {},
   "outputs": [
    {
     "name": "stdout",
     "output_type": "stream",
     "text": [
      "0\n",
      "0.7139013452914799 0.9277389277389277 0.8068930562595032\n",
      "0\n",
      "0.7067736185383244 0.9242424242424242 0.8010101010101011\n",
      "0\n",
      "0.7220683287165282 0.9114219114219114 0.8057702215352912\n",
      "0\n",
      "0.7094972067039106 0.8881118881118881 0.7888198757763975\n",
      "0\n",
      "0.7179253867151957 0.9195804195804196 0.8063362289218192\n"
     ]
    }
   ],
   "source": [
    "metrics = []\n",
    "for i in range(0, 5):\n",
    "    log_likelihoods = llda.fit(max_iters=100)\n",
    "    \n",
    "    num_docs = llda.z.shape[0]\n",
    "\n",
    "    llda_doc_labels_pred = dict()\n",
    "    doc_labels = dict()\n",
    "    for i in range(0, num_docs):\n",
    "        word_inds = np.nonzero(llda.X[i])[1]\n",
    "        llda_doc_labels_pred[i] = np.unique(llda.z[i, word_inds])\n",
    "        doc_labels[i] = np.nonzero(label_matrix[i])[0]\n",
    "\n",
    "    tp = 0\n",
    "    fp = 0\n",
    "    fn = 0\n",
    "    total = 0\n",
    "\n",
    "    for i in range(0, num_docs):\n",
    "        pred_i = set(llda_doc_labels_pred[i])\n",
    "        label_i = set(doc_labels[i])\n",
    "        for j in range(0, num_docs):\n",
    "            if i == j: continue\n",
    "            pred_j = set(llda_doc_labels_pred[j])\n",
    "            label_j = set(doc_labels[j])\n",
    "\n",
    "            # If labeled in same cluster\n",
    "            label_same_cluster = label_i.isdisjoint(label_j)\n",
    "            # If predicted in same cluster\n",
    "            pred_same_cluster = pred_i.isdisjoint(pred_j)\n",
    "\n",
    "            if label_same_cluster == True and pred_same_cluster == True:\n",
    "                tp += 1\n",
    "            elif label_same_cluster == False and pred_same_cluster == True:\n",
    "                fp += 1\n",
    "            elif label_same_cluster == True and pred_same_cluster == False:\n",
    "                fn += 1\n",
    "            total += 1\n",
    "\n",
    "    precision = tp / (tp + fp)\n",
    "    recall = tp / (tp + fn)\n",
    "    fscore = (2 * precision * recall) / (precision + recall)\n",
    "\n",
    "    print(precision, recall, fscore)\n",
    "    metrics.append((precision, recall, fscore))"
   ]
  },
  {
   "cell_type": "markdown",
   "metadata": {},
   "source": [
    "# LLDA"
   ]
  },
  {
   "cell_type": "code",
   "execution_count": 187,
   "metadata": {},
   "outputs": [],
   "source": [
    "llda = LLDA(0.01, 0.01, 12)"
   ]
  },
  {
   "cell_type": "code",
   "execution_count": 188,
   "metadata": {
    "scrolled": true
   },
   "outputs": [
    {
     "data": {
      "text/plain": [
       "342"
      ]
     },
     "execution_count": 188,
     "metadata": {},
     "output_type": "execute_result"
    }
   ],
   "source": [
    "llda.random_initialization(review_data['review'][:50], label_matrix)\n",
    "llda.vocab_size"
   ]
  },
  {
   "cell_type": "code",
   "execution_count": 189,
   "metadata": {
    "scrolled": true
   },
   "outputs": [
    {
     "name": "stdout",
     "output_type": "stream",
     "text": [
      "n_dk: (50, 12)\n",
      "n_wk: (342, 12)\n"
     ]
    }
   ],
   "source": [
    "print('n_dk: {}'.format(llda.n_dk.shape))\n",
    "print('n_wk: {}'.format(llda.n_wk.shape))"
   ]
  },
  {
   "cell_type": "code",
   "execution_count": 190,
   "metadata": {},
   "outputs": [],
   "source": [
    "orig_z = llda.z"
   ]
  },
  {
   "cell_type": "code",
   "execution_count": 191,
   "metadata": {},
   "outputs": [
    {
     "data": {
      "text/plain": [
       "(1708, 12)"
      ]
     },
     "execution_count": 191,
     "metadata": {},
     "output_type": "execute_result"
    }
   ],
   "source": [
    "label_matrix.shape"
   ]
  },
  {
   "cell_type": "code",
   "execution_count": 192,
   "metadata": {
    "scrolled": true
   },
   "outputs": [
    {
     "name": "stdout",
     "output_type": "stream",
     "text": [
      "0\n",
      "100\n",
      "200\n",
      "300\n",
      "400\n",
      "500\n",
      "600\n",
      "700\n",
      "800\n",
      "900\n"
     ]
    }
   ],
   "source": [
    "log_likelihoods = llda.fit(max_iters=1000)"
   ]
  },
  {
   "cell_type": "code",
   "execution_count": 193,
   "metadata": {},
   "outputs": [
    {
     "data": {
      "text/plain": [
       "array([[1.        , 0.13983767],\n",
       "       [0.13983767, 1.        ]])"
      ]
     },
     "execution_count": 193,
     "metadata": {},
     "output_type": "execute_result"
    }
   ],
   "source": [
    "t = 900\n",
    "np.corrcoef(np.array([log_likelihoods[:-t], log_likelihoods[t:]]))"
   ]
  },
  {
   "cell_type": "code",
   "execution_count": 139,
   "metadata": {
    "scrolled": false
   },
   "outputs": [
    {
     "data": {
      "image/png": "[encoded data removed]",
      "text/plain": [
       "<Figure size 432x288 with 1 Axes>"
      ]
     },
     "metadata": {
      "needs_background": "light"
     },
     "output_type": "display_data"
    }
   ],
   "source": [
    "import matplotlib.pyplot as plt\n",
    "plt.plot(log_likelihoods)\n",
    "plt.xlabel('Iterations')\n",
    "plt.ylabel('Log Likelihood')\n",
    "plt.title('Log Likelihood of LLDA')\n",
    "plt.savefig('llda.png', dpi=200)"
   ]
  },
  {
   "cell_type": "code",
   "execution_count": 140,
   "metadata": {},
   "outputs": [],
   "source": [
    "beta = llda.calc_beta()\n",
    "theta = llda.calc_theta()"
   ]
  },
  {
   "cell_type": "code",
   "execution_count": 141,
   "metadata": {},
   "outputs": [
    {
     "data": {
      "text/plain": [
       "(342, 12)"
      ]
     },
     "execution_count": 141,
     "metadata": {},
     "output_type": "execute_result"
    }
   ],
   "source": [
    "beta.shape"
   ]
  },
  {
   "cell_type": "code",
   "execution_count": 142,
   "metadata": {},
   "outputs": [
    {
     "data": {
      "text/plain": [
       "(50, 12)"
      ]
     },
     "execution_count": 142,
     "metadata": {},
     "output_type": "execute_result"
    }
   ],
   "source": [
    "theta.shape"
   ]
  },
  {
   "cell_type": "code",
   "execution_count": 143,
   "metadata": {},
   "outputs": [
    {
     "data": {
      "text/plain": [
       "array([ 0,  2,  3,  4,  6,  7,  8, 10, 11])"
      ]
     },
     "execution_count": 143,
     "metadata": {},
     "output_type": "execute_result"
    }
   ],
   "source": [
    "np.unique(llda.z)"
   ]
  },
  {
   "cell_type": "code",
   "execution_count": 144,
   "metadata": {},
   "outputs": [
    {
     "data": {
      "text/plain": [
       "array([ 0,  8, 10])"
      ]
     },
     "execution_count": 144,
     "metadata": {},
     "output_type": "execute_result"
    }
   ],
   "source": [
    "np.unique(llda.z[3])"
   ]
  },
  {
   "cell_type": "code",
   "execution_count": 145,
   "metadata": {},
   "outputs": [
    {
     "data": {
      "text/plain": [
       "array([1.59713793e-05, 1.59713793e-05, 1.59713793e-05, 1.59713793e-05,\n",
       "       1.59713793e-05, 1.59713793e-05, 1.59713793e-05, 1.59713793e-05,\n",
       "       8.00166102e-03, 1.59713793e-05, 9.59879895e-03, 1.59713793e-05])"
      ]
     },
     "execution_count": 145,
     "metadata": {},
     "output_type": "execute_result"
    }
   ],
   "source": [
    "theta[3]"
   ]
  },
  {
   "cell_type": "markdown",
   "metadata": {},
   "source": [
    "### Get most common words"
   ]
  },
  {
   "cell_type": "markdown",
   "metadata": {},
   "source": [
    "For topic 6:"
   ]
  },
  {
   "cell_type": "code",
   "execution_count": 146,
   "metadata": {},
   "outputs": [],
   "source": [
    "import pandas as pd"
   ]
  },
  {
   "cell_type": "code",
   "execution_count": 147,
   "metadata": {},
   "outputs": [],
   "source": [
    "word_freq_inds = np.argsort(llda.n_wk[:, 3]) #least to most\n",
    "word_features = pd.Series(llda.corpus_model.get_feature_names())"
   ]
  },
  {
   "cell_type": "code",
   "execution_count": 148,
   "metadata": {},
   "outputs": [
    {
     "data": {
      "text/plain": [
       "array([  0, 229, 228, 227, 226, 225, 224, 223, 230, 222, 220, 219, 217,\n",
       "       216, 215, 214, 213, 221, 231, 232, 233, 251, 250, 249, 248, 247,\n",
       "       245, 244, 243, 242, 241, 240, 239, 238, 237, 236, 235, 234, 212,\n",
       "       211, 210, 209, 186, 185, 184, 183, 182, 181, 180, 179, 178, 177,\n",
       "       175, 174, 173, 172, 171, 169, 168, 187, 252, 188, 190, 208, 207,\n",
       "       206, 205, 203, 202, 201, 200, 199, 198, 197, 196, 195, 194, 193,\n",
       "       192, 191, 189, 253, 254, 255, 316, 315, 314, 313, 312, 311, 310,\n",
       "       309, 308, 307, 306, 305, 304, 303, 302, 301, 300, 317, 299, 318,\n",
       "       320, 339, 338, 337, 336, 335, 334, 333, 332, 330, 329, 327, 326,\n",
       "       325, 324, 323, 322, 321, 319, 167, 298, 296, 272, 271, 270, 269,\n",
       "       268, 267, 266, 265, 264, 263, 262, 261, 260, 259, 258, 257, 256,\n",
       "       273, 297, 274, 276, 295, 294, 293, 292, 291, 290, 289, 287, 286,\n",
       "       285, 284, 283, 282, 281, 279, 278, 277, 275, 166, 170, 164,  63,\n",
       "        62,  61,  60,  58,  57,  56,  64,  55,  53,  52,  49,  48,  47,\n",
       "        46,  45,  54,  65,  66,  67,  85,  84,  83, 165,  81,  80,  79,\n",
       "        78,  77,  76,  75,  74,  73,  72,  70,  69,  68,  44,  86,  43,\n",
       "        41,  16,  15,  14,  13,  12,  11,  10,  17,   9,   7,   6,   5,\n",
       "         4,   3,   2,   1,   8,  18,  20,  21,  40,  39,  38,  37,  36,\n",
       "        35,  34,  31,  30,  29,  28,  27,  26,  25,  24,  23,  22,  42,\n",
       "        87, 341,  89, 142, 141, 140, 138, 137, 136, 135, 134, 133, 132,\n",
       "       131, 130, 129, 128,  88, 126, 125, 143, 124, 144, 146, 163, 162,\n",
       "       161, 160, 159, 158, 157, 156, 155, 154, 153, 152, 151, 150, 149,\n",
       "       148, 147, 145, 123, 127, 121, 111, 110, 109, 108, 107, 122,  98,\n",
       "       105,  96, 103, 102, 101, 100,  99, 104, 113, 112,  91,  90, 120,\n",
       "       119, 118, 114, 117,  97,  93, 116, 115,  94,  95,  92, 328, 340,\n",
       "       176, 246, 331, 106,  19, 139,  32,  33,  59, 204,  51,  50, 288,\n",
       "        71,  82, 280, 218])"
      ]
     },
     "execution_count": 148,
     "metadata": {},
     "output_type": "execute_result"
    }
   ],
   "source": [
    "word_freq_inds"
   ]
  },
  {
   "cell_type": "code",
   "execution_count": 149,
   "metadata": {},
   "outputs": [
    {
     "data": {
      "text/plain": [
       "288      this\n",
       "71     devine\n",
       "82        eat\n",
       "280       the\n",
       "218     price\n",
       "dtype: object"
      ]
     },
     "execution_count": 149,
     "metadata": {},
     "output_type": "execute_result"
    }
   ],
   "source": [
    "word_features[word_freq_inds[-5:]]"
   ]
  },
  {
   "cell_type": "markdown",
   "metadata": {},
   "source": [
    "### Get cluster assignments for documents"
   ]
  },
  {
   "cell_type": "markdown",
   "metadata": {},
   "source": [
    "For document 0:"
   ]
  },
  {
   "cell_type": "code",
   "execution_count": 150,
   "metadata": {},
   "outputs": [
    {
     "data": {
      "text/plain": [
       "array([11])"
      ]
     },
     "execution_count": 150,
     "metadata": {},
     "output_type": "execute_result"
    }
   ],
   "source": [
    "i = 0\n",
    "\n",
    "word_inds = np.nonzero(llda.X[i])[1]\n",
    "np.unique(llda.z[i, word_inds])"
   ]
  },
  {
   "cell_type": "code",
   "execution_count": 151,
   "metadata": {},
   "outputs": [
    {
     "data": {
      "text/plain": [
       "(50, 342)"
      ]
     },
     "execution_count": 151,
     "metadata": {},
     "output_type": "execute_result"
    }
   ],
   "source": [
    "llda.z.shape"
   ]
  },
  {
   "cell_type": "code",
   "execution_count": 152,
   "metadata": {},
   "outputs": [],
   "source": [
    "num_docs = llda.z.shape[0]\n",
    "\n",
    "llda_doc_labels_pred = dict()\n",
    "doc_labels = dict()\n",
    "for i in range(0, num_docs):\n",
    "    word_inds = np.nonzero(llda.X[i])[1]\n",
    "    llda_doc_labels_pred[i] = np.unique(llda.z[i, word_inds])\n",
    "    doc_labels[i] = np.nonzero(label_matrix[i])[0]"
   ]
  },
  {
   "cell_type": "code",
   "execution_count": 153,
   "metadata": {},
   "outputs": [
    {
     "data": {
      "text/plain": [
       "array([11])"
      ]
     },
     "execution_count": 153,
     "metadata": {},
     "output_type": "execute_result"
    }
   ],
   "source": [
    "np.nonzero(label_matrix[0])[0]"
   ]
  },
  {
   "cell_type": "markdown",
   "metadata": {},
   "source": [
    "For each document, create a list of docs that are in the same cluster (labeled and inferred)\n",
    "\n",
    "Compute TP, FP, FN values, then calculate precision, recall, and f-score"
   ]
  },
  {
   "cell_type": "code",
   "execution_count": 154,
   "metadata": {},
   "outputs": [],
   "source": [
    "tp = 0\n",
    "fp = 0\n",
    "fn = 0\n",
    "total = 0\n",
    "\n",
    "for i in range(0, num_docs):\n",
    "    pred_i = set(llda_doc_labels_pred[i])\n",
    "    label_i = set(doc_labels[i])\n",
    "    for j in range(0, num_docs):\n",
    "        if i == j: continue\n",
    "        pred_j = set(llda_doc_labels_pred[j])\n",
    "        label_j = set(doc_labels[j])\n",
    "        \n",
    "        # If labeled in same cluster\n",
    "        label_same_cluster = label_i.isdisjoint(label_j)\n",
    "        # If predicted in same cluster\n",
    "        pred_same_cluster = pred_i.isdisjoint(pred_j)\n",
    "        \n",
    "        if label_same_cluster == True and pred_same_cluster == True:\n",
    "            tp += 1\n",
    "        elif label_same_cluster == False and pred_same_cluster == True:\n",
    "            fp += 1\n",
    "        elif label_same_cluster == True and pred_same_cluster == False:\n",
    "            fn += 1\n",
    "        total += 1"
   ]
  },
  {
   "cell_type": "code",
   "execution_count": 155,
   "metadata": {},
   "outputs": [
    {
     "name": "stdout",
     "output_type": "stream",
     "text": [
      "0.9377049180327869 1.0 0.9678510998307953\n"
     ]
    }
   ],
   "source": [
    "precision = tp / (tp + fp)\n",
    "recall = tp / (tp + fn)\n",
    "fscore = (2 * precision * recall) / (precision + recall)\n",
    "\n",
    "print(precision, recall, fscore)"
   ]
  },
  {
   "cell_type": "code",
   "execution_count": 156,
   "metadata": {},
   "outputs": [
    {
     "name": "stdout",
     "output_type": "stream",
     "text": [
      "0\n",
      "0.9387308533916849 1.0 0.9683972911963883\n",
      "0\n",
      "0.9522752497225305 1.0 0.9755542922114838\n",
      "0\n",
      "0.9377049180327869 1.0 0.9678510998307953\n",
      "0\n",
      "0.9512195121951219 1.0 0.975\n",
      "0\n",
      "0.9377049180327869 1.0 0.9678510998307953\n"
     ]
    }
   ],
   "source": [
    "metrics = []\n",
    "for i in range(0, 5):\n",
    "    log_likelihoods = llda.fit(max_iters=100)\n",
    "    \n",
    "    num_docs = llda.z.shape[0]\n",
    "\n",
    "    llda_doc_labels_pred = dict()\n",
    "    doc_labels = dict()\n",
    "    for i in range(0, num_docs):\n",
    "        word_inds = np.nonzero(llda.X[i])[1]\n",
    "        llda_doc_labels_pred[i] = np.unique(llda.z[i, word_inds])\n",
    "        doc_labels[i] = np.nonzero(label_matrix[i])[0]\n",
    "\n",
    "    tp = 0\n",
    "    fp = 0\n",
    "    fn = 0\n",
    "    total = 0\n",
    "\n",
    "    for i in range(0, num_docs):\n",
    "        pred_i = set(llda_doc_labels_pred[i])\n",
    "        label_i = set(doc_labels[i])\n",
    "        for j in range(0, num_docs):\n",
    "            if i == j: continue\n",
    "            pred_j = set(llda_doc_labels_pred[j])\n",
    "            label_j = set(doc_labels[j])\n",
    "\n",
    "            # If labeled in same cluster\n",
    "            label_same_cluster = label_i.isdisjoint(label_j)\n",
    "            # If predicted in same cluster\n",
    "            pred_same_cluster = pred_i.isdisjoint(pred_j)\n",
    "\n",
    "            if label_same_cluster == True and pred_same_cluster == True:\n",
    "                tp += 1\n",
    "            elif label_same_cluster == False and pred_same_cluster == True:\n",
    "                fp += 1\n",
    "            elif label_same_cluster == True and pred_same_cluster == False:\n",
    "                fn += 1\n",
    "            total += 1\n",
    "\n",
    "    precision = tp / (tp + fp)\n",
    "    recall = tp / (tp + fn)\n",
    "    fscore = (2 * precision * recall) / (precision + recall)\n",
    "\n",
    "    print(precision, recall, fscore)\n",
    "    metrics.append((precision, recall, fscore))"
   ]
  },
  {
   "cell_type": "markdown",
   "metadata": {},
   "source": [
    "# LDA"
   ]
  },
  {
   "cell_type": "code",
   "execution_count": 88,
   "metadata": {},
   "outputs": [],
   "source": [
    "lda = LDA(0.01, 0.01, 12)"
   ]
  },
  {
   "cell_type": "code",
   "execution_count": 89,
   "metadata": {},
   "outputs": [
    {
     "data": {
      "text/plain": [
       "252"
      ]
     },
     "execution_count": 89,
     "metadata": {},
     "output_type": "execute_result"
    }
   ],
   "source": [
    "lda.random_initialization(review_data['review'][:50])\n",
    "lda.vocab_size"
   ]
  },
  {
   "cell_type": "code",
   "execution_count": 90,
   "metadata": {
    "scrolled": true
   },
   "outputs": [
    {
     "name": "stdout",
     "output_type": "stream",
     "text": [
      "n_dk: (50, 12)\n",
      "n_wk: (252, 12)\n"
     ]
    }
   ],
   "source": [
    "print('n_dk: {}'.format(lda.n_dk.shape))\n",
    "print('n_wk: {}'.format(lda.n_wk.shape))"
   ]
  },
  {
   "cell_type": "code",
   "execution_count": 91,
   "metadata": {},
   "outputs": [
    {
     "data": {
      "text/plain": [
       "(1708, 12)"
      ]
     },
     "execution_count": 91,
     "metadata": {},
     "output_type": "execute_result"
    }
   ],
   "source": [
    "label_matrix.shape"
   ]
  },
  {
   "cell_type": "code",
   "execution_count": 92,
   "metadata": {},
   "outputs": [],
   "source": [
    "orig_z = lda.z"
   ]
  },
  {
   "cell_type": "code",
   "execution_count": 93,
   "metadata": {
    "scrolled": true
   },
   "outputs": [
    {
     "name": "stdout",
     "output_type": "stream",
     "text": [
      "0\n",
      "100\n",
      "200\n",
      "300\n",
      "400\n",
      "500\n",
      "600\n",
      "700\n",
      "800\n",
      "900\n"
     ]
    }
   ],
   "source": [
    "log_likelihoods = lda.fit(max_iters=1000)"
   ]
  },
  {
   "cell_type": "code",
   "execution_count": 94,
   "metadata": {
    "scrolled": true
   },
   "outputs": [
    {
     "data": {
      "image/png": "[encoded data removed]",
      "text/plain": [
       "<Figure size 432x288 with 1 Axes>"
      ]
     },
     "metadata": {
      "needs_background": "light"
     },
     "output_type": "display_data"
    }
   ],
   "source": [
    "import matplotlib.pyplot as plt\n",
    "plt.plot(log_likelihoods)\n",
    "plt.xlabel('Iterations')\n",
    "plt.ylabel('Log Likelihood')\n",
    "plt.title('Log Likelihood of LDA')\n",
    "plt.savefig('lda.png', dpi=200)"
   ]
  },
  {
   "cell_type": "code",
   "execution_count": 95,
   "metadata": {},
   "outputs": [],
   "source": [
    "beta = lda.calc_beta()\n",
    "theta = lda.calc_theta()"
   ]
  },
  {
   "cell_type": "code",
   "execution_count": 96,
   "metadata": {},
   "outputs": [],
   "source": [
    "num_docs = lda.z.shape[0]\n",
    "\n",
    "lda_doc_labels = dict()\n",
    "for i in range(0, num_docs):\n",
    "    word_inds = np.nonzero(llda.X[i])[1]\n",
    "    doc_labels[i] = np.unique(llda.z[i, word_inds])"
   ]
  },
  {
   "cell_type": "markdown",
   "metadata": {},
   "source": [
    "### Get most common words"
   ]
  },
  {
   "cell_type": "markdown",
   "metadata": {},
   "source": [
    "For topic 6:"
   ]
  },
  {
   "cell_type": "code",
   "execution_count": 97,
   "metadata": {},
   "outputs": [],
   "source": [
    "import pandas as pd"
   ]
  },
  {
   "cell_type": "code",
   "execution_count": 98,
   "metadata": {},
   "outputs": [],
   "source": [
    "word_freq_inds = np.argsort(lda.n_wk[:, 3]) #least to most\n",
    "word_features = pd.Series(lda.corpus_model.get_feature_names())"
   ]
  },
  {
   "cell_type": "code",
   "execution_count": 99,
   "metadata": {},
   "outputs": [
    {
     "data": {
      "text/plain": [
       "192        shrimp\n",
       "17        awesome\n",
       "67     experience\n",
       "89          great\n",
       "76           food\n",
       "dtype: object"
      ]
     },
     "execution_count": 99,
     "metadata": {},
     "output_type": "execute_result"
    }
   ],
   "source": [
    "word_features[word_freq_inds[-5:]]"
   ]
  },
  {
   "cell_type": "markdown",
   "metadata": {},
   "source": [
    "### Get cluster assignments for documents"
   ]
  },
  {
   "cell_type": "markdown",
   "metadata": {},
   "source": [
    "For document 0:"
   ]
  },
  {
   "cell_type": "code",
   "execution_count": 100,
   "metadata": {},
   "outputs": [
    {
     "data": {
      "text/plain": [
       "array([0])"
      ]
     },
     "execution_count": 100,
     "metadata": {},
     "output_type": "execute_result"
    }
   ],
   "source": [
    "i = 0\n",
    "\n",
    "word_inds = np.nonzero(lda.X[i])[1]\n",
    "np.unique(llda.z[i, word_inds])"
   ]
  },
  {
   "cell_type": "code",
   "execution_count": 101,
   "metadata": {},
   "outputs": [
    {
     "data": {
      "text/plain": [
       "(50, 252)"
      ]
     },
     "execution_count": 101,
     "metadata": {},
     "output_type": "execute_result"
    }
   ],
   "source": [
    "lda.z.shape"
   ]
  },
  {
   "cell_type": "code",
   "execution_count": 102,
   "metadata": {},
   "outputs": [],
   "source": [
    "num_docs = llda.z.shape[0]\n",
    "\n",
    "lda_doc_labels_pred = dict()\n",
    "doc_labels = dict()\n",
    "for i in range(0, num_docs):\n",
    "    word_inds = np.nonzero(lda.X[i])[1]\n",
    "    lda_doc_labels_pred[i] = np.unique(lda.z[i, word_inds])\n",
    "    doc_labels[i] = np.nonzero(label_matrix[i])[0]"
   ]
  },
  {
   "cell_type": "code",
   "execution_count": 103,
   "metadata": {},
   "outputs": [
    {
     "data": {
      "text/plain": [
       "array([11])"
      ]
     },
     "execution_count": 103,
     "metadata": {},
     "output_type": "execute_result"
    }
   ],
   "source": [
    "np.nonzero(label_matrix[0])[0]"
   ]
  },
  {
   "cell_type": "markdown",
   "metadata": {},
   "source": [
    "For each document, create a list of docs that are in the same cluster (labeled and inferred)\n",
    "\n",
    "Compute TP, FP, FN values, then calculate precision, recall, and f-score"
   ]
  },
  {
   "cell_type": "code",
   "execution_count": 104,
   "metadata": {},
   "outputs": [],
   "source": [
    "tp = 0\n",
    "fp = 0\n",
    "fn = 0\n",
    "total = 0\n",
    "\n",
    "for i in range(0, num_docs):\n",
    "    pred_i = set(lda_doc_labels_pred[i])\n",
    "    label_i = set(doc_labels[i])\n",
    "    for j in range(0, num_docs):\n",
    "        if i == j: continue\n",
    "        pred_j = set(lda_doc_labels_pred[j])\n",
    "        label_j = set(doc_labels[j])\n",
    "        \n",
    "        # If labeled in same cluster\n",
    "        label_same_cluster = label_i.isdisjoint(label_j)\n",
    "        # If predicted in same cluster\n",
    "        pred_same_cluster = pred_i.isdisjoint(pred_j)\n",
    "        \n",
    "        if label_same_cluster == True and pred_same_cluster == True:\n",
    "            tp += 1\n",
    "        elif label_same_cluster == False and pred_same_cluster == True:\n",
    "            fp += 1\n",
    "        elif label_same_cluster == True and pred_same_cluster == False:\n",
    "            fn += 1\n",
    "        total += 1"
   ]
  },
  {
   "cell_type": "code",
   "execution_count": 105,
   "metadata": {},
   "outputs": [
    {
     "name": "stdout",
     "output_type": "stream",
     "text": [
      "0.7152380952380952 0.8752913752913752 0.7872117400419286\n"
     ]
    }
   ],
   "source": [
    "precision = tp / (tp + fp)\n",
    "recall = tp / (tp + fn)\n",
    "fscore = (2 * precision * recall) / (precision + recall)\n",
    "\n",
    "print(precision, recall, fscore)"
   ]
  },
  {
   "cell_type": "code",
   "execution_count": 132,
   "metadata": {},
   "outputs": [
    {
     "name": "stdout",
     "output_type": "stream",
     "text": [
      "0\n",
      "0.7134670487106017 0.8706293706293706 0.784251968503937\n",
      "0\n",
      "0.723384030418251 0.8869463869463869 0.7968586387434556\n",
      "0\n",
      "0.7152380952380952 0.8752913752913752 0.7872117400419286\n",
      "0\n",
      "0.7160148975791434 0.8962703962703963 0.7960662525879917\n",
      "0\n",
      "0.7231695085255767 0.8403263403263403 0.7773584905660377\n"
     ]
    }
   ],
   "source": [
    "metrics = []\n",
    "for i in range(0, 5):\n",
    "    log_likelihoods = lda.fit(max_iters=100)\n",
    "\n",
    "    num_docs = llda.z.shape[0]\n",
    "\n",
    "    lda_doc_labels_pred = dict()\n",
    "    doc_labels = dict()\n",
    "    for i in range(0, num_docs):\n",
    "        word_inds = np.nonzero(lda.X[i])[1]\n",
    "        lda_doc_labels_pred[i] = np.unique(lda.z[i, word_inds])\n",
    "        doc_labels[i] = np.nonzero(label_matrix[i])[0]\n",
    "    \n",
    "    tp = 0\n",
    "    fp = 0\n",
    "    fn = 0\n",
    "    total = 0\n",
    "\n",
    "    for i in range(0, num_docs):\n",
    "        pred_i = set(lda_doc_labels_pred[i])\n",
    "        label_i = set(doc_labels[i])\n",
    "        for j in range(0, num_docs):\n",
    "            if i == j: continue\n",
    "            pred_j = set(lda_doc_labels_pred[j])\n",
    "            label_j = set(doc_labels[j])\n",
    "\n",
    "            # If labeled in same cluster\n",
    "            label_same_cluster = label_i.isdisjoint(label_j)\n",
    "            # If predicted in same cluster\n",
    "            pred_same_cluster = pred_i.isdisjoint(pred_j)\n",
    "\n",
    "            if label_same_cluster == True and pred_same_cluster == True:\n",
    "                tp += 1\n",
    "            elif label_same_cluster == False and pred_same_cluster == True:\n",
    "                fp += 1\n",
    "            elif label_same_cluster == True and pred_same_cluster == False:\n",
    "                fn += 1\n",
    "            total += 1\n",
    "\n",
    "    precision = tp / (tp + fp)\n",
    "    recall = tp / (tp + fn)\n",
    "    fscore = (2 * precision * recall) / (precision + recall)\n",
    "\n",
    "    print(precision, recall, fscore)\n",
    "    metrics.append((precision, recall, fscore))"
   ]
  },
  {
   "cell_type": "markdown",
   "metadata": {},
   "source": [
    "# Scratch Space"
   ]
  },
  {
   "cell_type": "code",
   "execution_count": null,
   "metadata": {
    "scrolled": true
   },
   "outputs": [],
   "source": [
    "lda.corpus_model.get_feature_names()"
   ]
  },
  {
   "cell_type": "code",
   "execution_count": null,
   "metadata": {},
   "outputs": [],
   "source": [
    "where = np.argwhere(label_matrix[:50] == 1).T[0]\n",
    "where = np.nonzero(label_matrix[:50])\n",
    "where[1]"
   ]
  },
  {
   "cell_type": "code",
   "execution_count": null,
   "metadata": {},
   "outputs": [],
   "source": [
    "label_matrix[3]"
   ]
  }
 ],
 "metadata": {
  "kernelspec": {
   "display_name": "Python 3",
   "language": "python",
   "name": "python3"
  },
  "language_info": {
   "codemirror_mode": {
    "name": "ipython",
    "version": 3
   },
   "file_extension": ".py",
   "mimetype": "text/x-python",
   "name": "python",
   "nbconvert_exporter": "python",
   "pygments_lexer": "ipython3",
   "version": "3.6.7"
  }
 },
 "nbformat": 4,
 "nbformat_minor": 2
}
